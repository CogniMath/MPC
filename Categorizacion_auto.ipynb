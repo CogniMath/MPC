{
 "cells": [
  {
   "cell_type": "markdown",
   "metadata": {},
   "source": [
    "# Automatización del código de categorización"
   ]
  },
  {
   "cell_type": "code",
   "execution_count": 1,
   "metadata": {},
   "outputs": [],
   "source": [
    "import numpy as np # llamamos la paqueteria de numpy"
   ]
  },
  {
   "cell_type": "code",
   "execution_count": 2,
   "metadata": {},
   "outputs": [],
   "source": [
    "# codigo para el modelo de prototipos\n",
    "# Primero definimos las dimensiones del estimulo\n",
    "s1 = 3; # estos valores pueden ser modificados segun las dimensiones del estimulo\n",
    "s2 = 7;\n",
    "# ahora definimos los valores de los nodos\n",
    "x1 = 0;\n",
    "x2 = 6;\n",
    "x3 = 12;\n",
    "# x4 = valor, si se quiere definir un nodo adicional\n",
    "y1 = 0;\n",
    "y2 = 6;\n",
    "y3 = 12;\n",
    "# definimos el parametro de discriminacion\n",
    "s = 3;"
   ]
  },
  {
   "cell_type": "code",
   "execution_count": 3,
   "metadata": {},
   "outputs": [],
   "source": [
    "# se define la similaridad sim(x_i, s1)\n",
    "def similarityx(x, s1, s):\n",
    "    return np.exp(-(np.abs(x - s1)/s)**2)\n",
    "\n",
    "# se define la similaridad sim(x_i, s1)\n",
    "def similarityy(x, s2, s):\n",
    "    return np.exp(-(np.abs(x - s2)/s)**2)"
   ]
  },
  {
   "cell_type": "code",
   "execution_count": 4,
   "metadata": {},
   "outputs": [],
   "source": [
    "# se definen las activaciones\n",
    "def activationx(x, x1, x2, x3, s1, s):\n",
    "    return similarityx(x, s1, s)/(similarityx(x1, s1, s) + similarityx(x2, s1, s) + similarityx(x3, s1, s))\n",
    "\n",
    "# Se define la otra activacion\n",
    "def activationy(y, y1, y2, y3, s2, s):\n",
    "    return similarityx(y, s2, s)/(similarityy(y1, s2, s) + similarityy(y2, s2, s) + similarityy(y3, s2, s))"
   ]
  },
  {
   "cell_type": "code",
   "execution_count": 5,
   "metadata": {},
   "outputs": [],
   "source": [
    "#Se definen los valores de los pesos\n",
    "v1a = 1;\n",
    "v2a = 0.02;\n",
    "v3a = 0.01;\n",
    "w1a = 0.02;\n",
    "w2a = 0.01;\n",
    "w3a = 1;\n",
    "v1b = 0.02;\n",
    "v2b = 1;\n",
    "v3b = 0.01;\n",
    "w1b = 0.01;\n",
    "w2b = 1;\n",
    "w3b = 0.02;"
   ]
  },
  {
   "cell_type": "code",
   "execution_count": 6,
   "metadata": {},
   "outputs": [],
   "source": [
    "# Se define finalmente los mapeos de respuesta\n",
    "ra = v1a*activationx(x1, x1, x2, x3, s1, s) + v2a*activationx(x2, x1, x2, x3, s1, s) + v3a*activationx(x3, x1, x2, x3, s1, s) + w1a*activationy(y1, y1, y2, y3, s2, s) + w2a*activationy(y2, y1, y2, y3, s2, s) + w3a*activationy(y3, y1, y2, y3, s2, s)\n",
    "rb = v1b*activationx(x1,x1, x2, x3, s1, s) + v2b*activationx(x2,x1, x2, x3, s1, s) + v3b*activationx(x3,x1, x2, x3, s1, s) + w1b*activationy(y1,y1, y2, y3, s2, s) + w2b*activationy(y2,y1, y2, y3, s2, s) + w3b*activationy(y3,y1, y2, y3, s2, s)"
   ]
  },
  {
   "cell_type": "code",
   "execution_count": 7,
   "metadata": {},
   "outputs": [],
   "source": [
    "# finalmente la probabilidad para la tarea de categorizacion\n",
    "# primero el parametro de sensibilidad\n",
    "# b = 1;\n",
    "# la probabilidad P(A|S(t)) \n",
    "def probcat(b, ra, rb):\n",
    "    return np.exp(b*ra)/(np.exp(b*ra) + np.exp(b*rb));\n",
    "\n",
    "# por tanto si b = 1\n",
    "probAS = probcat(1,ra,rb)"
   ]
  },
  {
   "cell_type": "code",
   "execution_count": 8,
   "metadata": {},
   "outputs": [
    {
     "name": "stdout",
     "output_type": "stream",
     "text": [
      "0.5839915143885577 1.442083439372071 0.29773815130392983\n"
     ]
    }
   ],
   "source": [
    "print(ra,rb,probAS)"
   ]
  },
  {
   "cell_type": "code",
   "execution_count": null,
   "metadata": {},
   "outputs": [],
   "source": []
  }
 ],
 "metadata": {
  "kernelspec": {
   "display_name": "Python 3",
   "language": "python",
   "name": "python3"
  },
  "language_info": {
   "codemirror_mode": {
    "name": "ipython",
    "version": 3
   },
   "file_extension": ".py",
   "mimetype": "text/x-python",
   "name": "python",
   "nbconvert_exporter": "python",
   "pygments_lexer": "ipython3",
   "version": "3.8.3"
  }
 },
 "nbformat": 4,
 "nbformat_minor": 4
}
