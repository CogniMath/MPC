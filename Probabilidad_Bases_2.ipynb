{
 "cells": [
  {
   "cell_type": "markdown",
   "metadata": {},
   "source": [
    "# Combinatoria y permutaciones"
   ]
  },
  {
   "cell_type": "code",
   "execution_count": 1,
   "metadata": {},
   "outputs": [],
   "source": [
    "import matplotlib.pyplot as plt\n",
    "import numpy as np\n",
    "import pandas as pd\n",
    "\n",
    "np.random.seed(2131982)\n",
    "\n",
    "%matplotlib inline"
   ]
  },
  {
   "cell_type": "code",
   "execution_count": 10,
   "metadata": {},
   "outputs": [
    {
     "data": {
      "image/png": "[encoded data removed]",
      "text/plain": [
       "<Figure size 576x432 with 1 Axes>"
      ]
     },
     "metadata": {
      "needs_background": "light"
     },
     "output_type": "display_data"
    }
   ],
   "source": [
    "outcomes = []\n",
    "for trials in range(1,10000):\n",
    "    trials = np.random.choice([0,1], trials) # por default tiene p = [1/2, 1/2]\n",
    "    heads = trials.mean()\n",
    "    outcomes.append(heads)\n",
    "    \n",
    "df = pd.DataFrame({'trials':outcomes})\n",
    "\n",
    "df.plot(title = 'Moneda no-justa', color ='r', figsize =(8, 6))\n",
    "plt.axhline(1/2)\n",
    "plt.show()"
   ]
  },
  {
   "cell_type": "code",
   "execution_count": 11,
   "metadata": {},
   "outputs": [
    {
     "data": {
      "text/plain": [
       "array(['Arturo', 'Arturo', 'Jessica', 'Roberto', 'Jessica'], dtype='<U7')"
      ]
     },
     "execution_count": 11,
     "metadata": {},
     "output_type": "execute_result"
    }
   ],
   "source": [
    "nombres = ['Arturo','Alma','Jessica','Roberto']\n",
    "np.random.choice(nombres, 5, p = [0.5, 0.1, 0.1, 0.3])"
   ]
  },
  {
   "cell_type": "code",
   "execution_count": 13,
   "metadata": {},
   "outputs": [
    {
     "data": {
      "text/plain": [
       "array(['Jessica', 'Arturo', 'Roberto'], dtype='<U7')"
      ]
     },
     "execution_count": 13,
     "metadata": {},
     "output_type": "execute_result"
    }
   ],
   "source": [
    "np.random.choice(nombres, 3, replace = False)"
   ]
  },
  {
   "cell_type": "markdown",
   "metadata": {},
   "source": [
    "# Automatizando procesos"
   ]
  },
  {
   "cell_type": "code",
   "execution_count": 1,
   "metadata": {},
   "outputs": [],
   "source": [
    "# Podemos crear una función que me permita calcular las probabilidades en porcentaje o en valores\n",
    "# relativos\n",
    "def proba_por(res_ev, esp_mues):\n",
    "    proba = (res_ev / esp_mues)*100\n",
    "    return round(proba, 1)"
   ]
  },
  {
   "cell_type": "code",
   "execution_count": 2,
   "metadata": {},
   "outputs": [],
   "source": [
    "caras = 6 # Espacio muestral\n",
    "pares = 3"
   ]
  },
  {
   "cell_type": "code",
   "execution_count": 4,
   "metadata": {},
   "outputs": [
    {
     "name": "stdout",
     "output_type": "stream",
     "text": [
      "50.0\n"
     ]
    }
   ],
   "source": [
    "proba_pares = proba_por(pares, caras)\n",
    "print(proba_pares)"
   ]
  },
  {
   "cell_type": "code",
   "execution_count": 5,
   "metadata": {},
   "outputs": [
    {
     "name": "stdout",
     "output_type": "stream",
     "text": [
      "50.0%\n"
     ]
    }
   ],
   "source": [
    "# podemos imprimir de la siguiente forma\n",
    "print(str(proba_pares) + '%')"
   ]
  },
  {
   "cell_type": "markdown",
   "metadata": {},
   "source": [
    "¿puedes realizar algo similar con 2 dados? ¿que salgan números pares?"
   ]
  },
  {
   "cell_type": "code",
   "execution_count": 8,
   "metadata": {},
   "outputs": [
    {
     "name": "stdout",
     "output_type": "stream",
     "text": [
      "¿Cuál es el espacio muestral52\n",
      "¿Cuántos voy a extraer?2\n",
      "¡Existen 1326.0 combinaciones!\n"
     ]
    }
   ],
   "source": [
    "# Para trabajar con permutaciones y combinaciones es conveniente llamar una librería adicional\n",
    "import math\n",
    "\n",
    "espacio = input('¿Cuál es el espacio muestral')\n",
    "espacio = int(espacio)\n",
    "\n",
    "resultado = input('¿Cuántos voy a extraer?')\n",
    "resultado = int(resultado)\n",
    "\n",
    "perm = math.factorial(espacio) / math.factorial(espacio - resultado)\n",
    "comb = perm / math.factorial(resultado)\n",
    "\n",
    "print('¡Existen ' + str(comb) + ' combinaciones!')"
   ]
  },
  {
   "cell_type": "code",
   "execution_count": null,
   "metadata": {},
   "outputs": [],
   "source": []
  }
 ],
 "metadata": {
  "kernelspec": {
   "display_name": "Python 3",
   "language": "python",
   "name": "python3"
  },
  "language_info": {
   "codemirror_mode": {
    "name": "ipython",
    "version": 3
   },
   "file_extension": ".py",
   "mimetype": "text/x-python",
   "name": "python",
   "nbconvert_exporter": "python",
   "pygments_lexer": "ipython3",
   "version": "3.8.3"
  }
 },
 "nbformat": 4,
 "nbformat_minor": 4
}
